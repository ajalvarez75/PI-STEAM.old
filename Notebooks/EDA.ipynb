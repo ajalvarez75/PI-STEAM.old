{
 "cells": [
  {
   "cell_type": "markdown",
   "metadata": {},
   "source": [
    "EDA de los archivos limpios."
   ]
  },
  {
   "cell_type": "code",
   "execution_count": null,
   "metadata": {},
   "outputs": [],
   "source": [
    "import pandas as pd\n",
    "df_normalizada = pd.read_csv('CSV/Australian_users_items_normalizada.csv')\n",
    "df_normalizada_r = pd.read_csv('CSV/Australian_user_reviews_normalizada_SA.csv')\n"
   ]
  }
 ],
 "metadata": {
  "language_info": {
   "name": "python"
  }
 },
 "nbformat": 4,
 "nbformat_minor": 2
}
