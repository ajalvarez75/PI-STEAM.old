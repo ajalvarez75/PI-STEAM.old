{
 "cells": [
  {
   "cell_type": "code",
   "execution_count": 39,
   "metadata": {},
   "outputs": [],
   "source": [
    "import pandas as pd\n",
    "import ast\n",
    "\n",
    "# Se lee de cada línea del dataset\n",
    "filas_items = []\n",
    "with open('Jsons/Australian_user_reviews.json', encoding='utf-8') as f:\n",
    "    for line in f.readlines():\n",
    "        filas_items.append(ast.literal_eval(line))\n",
    "\n",
    "# Se convierte en dataframe\n",
    "df_reviews = pd.DataFrame(filas_items)\n",
    "\n",
    "# Guarda el DataFrame en un archivo CSV en la carpeta \"Archivos CSV\"\n",
    "df_reviews.to_csv('CSV/Australian_user_reviews.csv', index=False)"
   ]
  },
  {
   "cell_type": "code",
   "execution_count": 2,
   "metadata": {},
   "outputs": [
    {
     "name": "stdout",
     "output_type": "stream",
     "text": [
      "<class 'pandas.core.frame.DataFrame'>\n",
      "RangeIndex: 25485 entries, 0 to 25484\n",
      "Data columns (total 3 columns):\n",
      " #   Column    Non-Null Count  Dtype \n",
      "---  ------    --------------  ----- \n",
      " 0   user_id   25485 non-null  object\n",
      " 1   user_url  25485 non-null  object\n",
      " 2   reviews   25485 non-null  object\n",
      "dtypes: object(3)\n",
      "memory usage: 597.4+ KB\n"
     ]
    },
    {
     "data": {
      "text/html": [
       "<div>\n",
       "<style scoped>\n",
       "    .dataframe tbody tr th:only-of-type {\n",
       "        vertical-align: middle;\n",
       "    }\n",
       "\n",
       "    .dataframe tbody tr th {\n",
       "        vertical-align: top;\n",
       "    }\n",
       "\n",
       "    .dataframe thead th {\n",
       "        text-align: right;\n",
       "    }\n",
       "</style>\n",
       "<table border=\"1\" class=\"dataframe\">\n",
       "  <thead>\n",
       "    <tr style=\"text-align: right;\">\n",
       "      <th></th>\n",
       "      <th>user_id</th>\n",
       "      <th>user_url</th>\n",
       "      <th>reviews</th>\n",
       "    </tr>\n",
       "  </thead>\n",
       "  <tbody>\n",
       "    <tr>\n",
       "      <th>0</th>\n",
       "      <td>76561197970982479</td>\n",
       "      <td>http://steamcommunity.com/profiles/76561197970...</td>\n",
       "      <td>[{'funny': '', 'posted': 'Posted November 5, 2...</td>\n",
       "    </tr>\n",
       "    <tr>\n",
       "      <th>1</th>\n",
       "      <td>js41637</td>\n",
       "      <td>http://steamcommunity.com/id/js41637</td>\n",
       "      <td>[{'funny': '', 'posted': 'Posted June 24, 2014...</td>\n",
       "    </tr>\n",
       "    <tr>\n",
       "      <th>2</th>\n",
       "      <td>evcentric</td>\n",
       "      <td>http://steamcommunity.com/id/evcentric</td>\n",
       "      <td>[{'funny': '', 'posted': 'Posted February 3.',...</td>\n",
       "    </tr>\n",
       "    <tr>\n",
       "      <th>3</th>\n",
       "      <td>doctr</td>\n",
       "      <td>http://steamcommunity.com/id/doctr</td>\n",
       "      <td>[{'funny': '', 'posted': 'Posted October 14, 2...</td>\n",
       "    </tr>\n",
       "    <tr>\n",
       "      <th>4</th>\n",
       "      <td>maplemage</td>\n",
       "      <td>http://steamcommunity.com/id/maplemage</td>\n",
       "      <td>[{'funny': '3 people found this review funny',...</td>\n",
       "    </tr>\n",
       "  </tbody>\n",
       "</table>\n",
       "</div>"
      ],
      "text/plain": [
       "             user_id                                           user_url  \\\n",
       "0  76561197970982479  http://steamcommunity.com/profiles/76561197970...   \n",
       "1            js41637               http://steamcommunity.com/id/js41637   \n",
       "2          evcentric             http://steamcommunity.com/id/evcentric   \n",
       "3              doctr                 http://steamcommunity.com/id/doctr   \n",
       "4          maplemage             http://steamcommunity.com/id/maplemage   \n",
       "\n",
       "                                             reviews  \n",
       "0  [{'funny': '', 'posted': 'Posted November 5, 2...  \n",
       "1  [{'funny': '', 'posted': 'Posted June 24, 2014...  \n",
       "2  [{'funny': '', 'posted': 'Posted February 3.',...  \n",
       "3  [{'funny': '', 'posted': 'Posted October 14, 2...  \n",
       "4  [{'funny': '3 people found this review funny',...  "
      ]
     },
     "execution_count": 2,
     "metadata": {},
     "output_type": "execute_result"
    }
   ],
   "source": [
    "# para ver que tiene el archivo y si cuenta con nulos.\n",
    "import pandas as pd\n",
    "\n",
    "df_reviews = pd.read_csv('CSV/Australian_user_reviews.csv')\n",
    "\n",
    "df_reviews.info()\n",
    "df_reviews.head()"
   ]
  },
  {
   "cell_type": "code",
   "execution_count": 41,
   "metadata": {},
   "outputs": [
    {
     "name": "stdout",
     "output_type": "stream",
     "text": [
      "[{'funny': '', 'posted': 'Posted February 3.', 'last_edited': '', 'item_id': '248820', 'helpful': 'No ratings yet', 'recommend': True, 'review': \"A suitably punishing roguelike platformer.  Winning feels good.  Progressive unlocks mean a good slog ending in failure doesn't feel like a waste.\"}, {'funny': '', 'posted': 'Posted December 4, 2015.', 'last_edited': 'Last edited December 5, 2015.', 'item_id': '370360', 'helpful': 'No ratings yet', 'recommend': True, 'review': '\"Run for fun? What the hell kind of fun is that?\"'}, {'funny': '', 'posted': 'Posted November 3, 2014.', 'last_edited': '', 'item_id': '237930', 'helpful': 'No ratings yet', 'recommend': True, 'review': 'Elegant integration of gameplay, story, world development and aesthetic.'}, {'funny': '', 'posted': 'Posted October 15, 2014.', 'last_edited': '', 'item_id': '263360', 'helpful': 'No ratings yet', 'recommend': True, 'review': 'Random drops and random quests, with stat points.  Animation style reminiscent of the era before the Voodoo card.'}, {'funny': '', 'posted': 'Posted October 15, 2014.', 'last_edited': '', 'item_id': '107200', 'helpful': 'No ratings yet', 'recommend': True, 'review': 'Fun balance of tactics and strategy.  Potential for very rewarding battles on smaller maps.  Can become a bit of a grind on larger maps (>200 stars).'}, {'funny': '', 'posted': 'Posted October 15, 2014.', 'last_edited': '', 'item_id': '224500', 'helpful': 'No ratings yet', 'recommend': True, 'review': 'Fun world builder, with plenty of option of how you want challenge served to you.  Gnome pathing sometimes frustrating if you expand very very quickly.'}]\n"
     ]
    }
   ],
   "source": [
    "# Observamos que el archivo no tiene nulos, procedemos a ver la composicion de la columna reviews.\n",
    "\n",
    "import pandas as pd\n",
    "\n",
    "# Carga el archivo CSV en un DataFrame\n",
    "df_reviews = pd.read_csv('CSV/Australian_user_reviews.csv')\n",
    "\n",
    "# Reemplaza 'nombre_columna' con el nombre de la columna que deseas explorar\n",
    "column = df_reviews['reviews'][2]\n",
    "\n",
    "# Muestra la estructura de la columna\n",
    "print(column)"
   ]
  },
  {
   "cell_type": "code",
   "execution_count": 42,
   "metadata": {},
   "outputs": [
    {
     "name": "stdout",
     "output_type": "stream",
     "text": [
      "True\n"
     ]
    }
   ],
   "source": [
    "# Reviso si hay duplicados por user_id\n",
    "\n",
    "hay_duplicados = df_reviews['user_id'].duplicated().any()\n",
    "print(hay_duplicados)"
   ]
  },
  {
   "cell_type": "code",
   "execution_count": 43,
   "metadata": {},
   "outputs": [],
   "source": [
    "# Para eliminar duplicados por user_id\n",
    "\n",
    "df_reviews = pd.read_csv('CSV/Australian_user_reviews.csv')\n",
    "\n",
    "# Elimina los duplicados por \"user_id\"\n",
    "df_reviews = df_reviews.drop_duplicates(subset=['user_id'])\n",
    "\n",
    "# Guarda el DataFrame modificado en el mismo archivo CSV\n",
    "df_reviews.to_csv('CSV/Australian_user_reviews.csv', index=False)"
   ]
  },
  {
   "cell_type": "code",
   "execution_count": 44,
   "metadata": {},
   "outputs": [
    {
     "name": "stdout",
     "output_type": "stream",
     "text": [
      "<class 'pandas.core.frame.DataFrame'>\n",
      "RangeIndex: 25485 entries, 0 to 25484\n",
      "Data columns (total 3 columns):\n",
      " #   Column    Non-Null Count  Dtype \n",
      "---  ------    --------------  ----- \n",
      " 0   user_id   25485 non-null  object\n",
      " 1   user_url  25485 non-null  object\n",
      " 2   reviews   25485 non-null  object\n",
      "dtypes: object(3)\n",
      "memory usage: 597.4+ KB\n"
     ]
    }
   ],
   "source": [
    "# Compruebo nuevo estado del archivo.\n",
    "# se paso de 25799 a 25485\n",
    "\n",
    "import pandas as pd\n",
    "\n",
    "df_reviews = pd.read_csv('CSV/Australian_user_reviews.csv')\n",
    "\n",
    "df_reviews.info()"
   ]
  },
  {
   "cell_type": "code",
   "execution_count": 14,
   "metadata": {},
   "outputs": [],
   "source": [
    "# Procedemos a desanidar la informacion de la columna reviews.\n",
    "\n",
    "import pandas as pd\n",
    "import ast\n",
    "\n",
    "# Lee el archivo JSON en una lista de diccionarios\n",
    "filas_reviews = []\n",
    "with open('Jsons/Australian_user_reviews.json', 'r', encoding='utf-8') as archivo_json:\n",
    "    for linea in archivo_json:\n",
    "        objeto_json = ast.literal_eval(linea)\n",
    "        filas_reviews.append(objeto_json)\n",
    "\n",
    "# Normaliza la columna 'reviews' y selecciona los metadatos\n",
    "df_reviews = pd.json_normalize(filas_reviews, record_path=['reviews'], meta=['user_id', 'user_url'])\n",
    "\n",
    "# Guarda el DataFrame en un archivo CSV\n",
    "df_reviews.to_csv('CSV/Australian_user_reviews_normalizada.csv', index=False)"
   ]
  },
  {
   "cell_type": "code",
   "execution_count": 15,
   "metadata": {},
   "outputs": [
    {
     "data": {
      "text/html": [
       "<div>\n",
       "<style scoped>\n",
       "    .dataframe tbody tr th:only-of-type {\n",
       "        vertical-align: middle;\n",
       "    }\n",
       "\n",
       "    .dataframe tbody tr th {\n",
       "        vertical-align: top;\n",
       "    }\n",
       "\n",
       "    .dataframe thead th {\n",
       "        text-align: right;\n",
       "    }\n",
       "</style>\n",
       "<table border=\"1\" class=\"dataframe\">\n",
       "  <thead>\n",
       "    <tr style=\"text-align: right;\">\n",
       "      <th></th>\n",
       "      <th>funny</th>\n",
       "      <th>posted</th>\n",
       "      <th>last_edited</th>\n",
       "      <th>item_id</th>\n",
       "      <th>helpful</th>\n",
       "      <th>recommend</th>\n",
       "      <th>review</th>\n",
       "      <th>user_id</th>\n",
       "      <th>user_url</th>\n",
       "    </tr>\n",
       "  </thead>\n",
       "  <tbody>\n",
       "    <tr>\n",
       "      <th>0</th>\n",
       "      <td>NaN</td>\n",
       "      <td>Posted November 5, 2011.</td>\n",
       "      <td>NaN</td>\n",
       "      <td>1250</td>\n",
       "      <td>No ratings yet</td>\n",
       "      <td>True</td>\n",
       "      <td>Simple yet with great replayability. In my opi...</td>\n",
       "      <td>76561197970982479</td>\n",
       "      <td>http://steamcommunity.com/profiles/76561197970...</td>\n",
       "    </tr>\n",
       "    <tr>\n",
       "      <th>1</th>\n",
       "      <td>NaN</td>\n",
       "      <td>Posted July 15, 2011.</td>\n",
       "      <td>NaN</td>\n",
       "      <td>22200</td>\n",
       "      <td>No ratings yet</td>\n",
       "      <td>True</td>\n",
       "      <td>It's unique and worth a playthrough.</td>\n",
       "      <td>76561197970982479</td>\n",
       "      <td>http://steamcommunity.com/profiles/76561197970...</td>\n",
       "    </tr>\n",
       "    <tr>\n",
       "      <th>2</th>\n",
       "      <td>NaN</td>\n",
       "      <td>Posted April 21, 2011.</td>\n",
       "      <td>NaN</td>\n",
       "      <td>43110</td>\n",
       "      <td>No ratings yet</td>\n",
       "      <td>True</td>\n",
       "      <td>Great atmosphere. The gunplay can be a bit chu...</td>\n",
       "      <td>76561197970982479</td>\n",
       "      <td>http://steamcommunity.com/profiles/76561197970...</td>\n",
       "    </tr>\n",
       "  </tbody>\n",
       "</table>\n",
       "</div>"
      ],
      "text/plain": [
       "  funny                    posted last_edited  item_id         helpful  \\\n",
       "0   NaN  Posted November 5, 2011.         NaN     1250  No ratings yet   \n",
       "1   NaN     Posted July 15, 2011.         NaN    22200  No ratings yet   \n",
       "2   NaN    Posted April 21, 2011.         NaN    43110  No ratings yet   \n",
       "\n",
       "   recommend                                             review  \\\n",
       "0       True  Simple yet with great replayability. In my opi...   \n",
       "1       True               It's unique and worth a playthrough.   \n",
       "2       True  Great atmosphere. The gunplay can be a bit chu...   \n",
       "\n",
       "             user_id                                           user_url  \n",
       "0  76561197970982479  http://steamcommunity.com/profiles/76561197970...  \n",
       "1  76561197970982479  http://steamcommunity.com/profiles/76561197970...  \n",
       "2  76561197970982479  http://steamcommunity.com/profiles/76561197970...  "
      ]
     },
     "execution_count": 15,
     "metadata": {},
     "output_type": "execute_result"
    }
   ],
   "source": [
    "# Se valida el resultado.\n",
    "import pandas as pd\n",
    "\n",
    "df_normalizada_r = pd.read_csv('CSV/Australian_user_reviews_normalizada.csv')\n",
    "df_normalizada_r.head(3)"
   ]
  },
  {
   "cell_type": "code",
   "execution_count": 16,
   "metadata": {},
   "outputs": [
    {
     "name": "stdout",
     "output_type": "stream",
     "text": [
      "Se encontraron duplicados en user_id e item_id:\n",
      "                     user_id  item_id  count\n",
      "91                  05041129      440      2\n",
      "92                  05041129      730      2\n",
      "93                  05041129   277430      2\n",
      "184    111222333444555666888      730      2\n",
      "185    111222333444555666888     8870      2\n",
      "...                      ...      ...    ...\n",
      "57757         xXAussieRockXx   220240      2\n",
      "57758         xXAussieRockXx   304050      2\n",
      "58019            yolofaceguy   250320      2\n",
      "58020            yolofaceguy   261030      2\n",
      "58282              zeroblade   219640      2\n",
      "\n",
      "[862 rows x 3 columns]\n"
     ]
    }
   ],
   "source": [
    "# para saber si los user_id tienen duplicados en los item_id\n",
    "# Se valida ya que por la funcionalidad de steam solo se puede reseñar 1 vez el juego.\n",
    "import pandas as pd\n",
    "\n",
    "# Carga el DataFrame a partir del archivo CSV\n",
    "df_normalizada_r = pd.read_csv('CSV/Australian_user_reviews_normalizada.csv')\n",
    "\n",
    "# Agrupa por 'user_id' y 'item_id' y cuenta las ocurrencias\n",
    "duplicados = df_normalizada_r.groupby(['user_id', 'item_id']).size().reset_index(name='count')\n",
    "\n",
    "# Filtra las filas donde count sea mayor que 1, lo que significa que hay duplicados\n",
    "duplicados = duplicados[duplicados['count'] > 1]\n",
    "\n",
    "if duplicados.empty:\n",
    "    print('No se encontraron duplicados en user_id e item_id.')\n",
    "else:\n",
    "    print('Se encontraron duplicados en user_id e item_id:')\n",
    "    print(duplicados)"
   ]
  },
  {
   "cell_type": "code",
   "execution_count": 18,
   "metadata": {},
   "outputs": [
    {
     "name": "stdout",
     "output_type": "stream",
     "text": [
      "                                  funny                   posted last_edited  \\\n",
      "13410                               NaN     Posted May 18, 2015.         NaN   \n",
      "13411  1 person found this review funny  Posted January 5, 2015.         NaN   \n",
      "13412                               NaN     Posted May 23, 2015.         NaN   \n",
      "31984                               NaN     Posted May 18, 2015.         NaN   \n",
      "31985  1 person found this review funny  Posted January 5, 2015.         NaN   \n",
      "31986                               NaN     Posted May 23, 2015.         NaN   \n",
      "\n",
      "       item_id                                         helpful  recommend  \\\n",
      "13410      730  4 of 4 people (100%) found this review helpful       True   \n",
      "13411   277430  1 of 1 people (100%) found this review helpful       True   \n",
      "13412      440   1 of 2 people (50%) found this review helpful      False   \n",
      "31984      730  4 of 4 people (100%) found this review helpful       True   \n",
      "31985   277430  1 of 1 people (100%) found this review helpful       True   \n",
      "31986      440   1 of 2 people (50%) found this review helpful      False   \n",
      "\n",
      "                                                  review   user_id  \\\n",
      "13410  This game to me it is so good that it is bette...  05041129   \n",
      "13411  this is the best third person game ever that i...  05041129   \n",
      "13412  this will be the  number one game if it have m...  05041129   \n",
      "31984  This game to me it is so good that it is bette...  05041129   \n",
      "31985  this is the best third person game ever that i...  05041129   \n",
      "31986  this will be the  number one game if it have m...  05041129   \n",
      "\n",
      "                                    user_url  \n",
      "13410  http://steamcommunity.com/id/05041129  \n",
      "13411  http://steamcommunity.com/id/05041129  \n",
      "13412  http://steamcommunity.com/id/05041129  \n",
      "31984  http://steamcommunity.com/id/05041129  \n",
      "31985  http://steamcommunity.com/id/05041129  \n",
      "31986  http://steamcommunity.com/id/05041129  \n"
     ]
    }
   ],
   "source": [
    "# Se implementa este codigo para ver si los datos de los user_id con item_id duplicados.\n",
    "user_id_to_preview = '05041129'\n",
    "\n",
    "# Filtra las filas que coincidan con el user_id específico\n",
    "filtered_rows = df_normalizada_r[df_normalizada_r['user_id'] == user_id_to_preview]\n",
    "\n",
    "# Genera una vista previa de las primeras 5 filas para ese user_id\n",
    "preview = filtered_rows.head(20)\n",
    "\n",
    "# Imprime la vista previa en la consola\n",
    "print(preview)"
   ]
  },
  {
   "cell_type": "code",
   "execution_count": 2,
   "metadata": {},
   "outputs": [],
   "source": [
    "# para eliminar los iten_id duplicados en los user_id.\n",
    "import pandas as pd\n",
    "\n",
    "# Carga el DataFrame desde el archivo CSV\n",
    "df_normalizada_r = pd.read_csv('CSV/Australian_user_reviews_normalizada.csv')\n",
    "\n",
    "# Elimina las filas duplicadas\n",
    "df_normalizada_r = df_normalizada_r.drop_duplicates(subset=['user_id', 'item_id'])\n",
    "\n",
    "# Sobrescribe el archivo CSV original\n",
    "df_normalizada_r.to_csv('CSV/Australian_user_reviews_normalizada.csv', index=False)"
   ]
  },
  {
   "cell_type": "code",
   "execution_count": 6,
   "metadata": {},
   "outputs": [
    {
     "name": "stderr",
     "output_type": "stream",
     "text": [
      "C:\\Users\\Alvaro Javier\\AppData\\Local\\Temp\\ipykernel_12508\\3933219808.py:6: DtypeWarning: Columns (9,10,12,15,18,20,22,26,29,32,35,38,40,43,45,47,50,52,55,57,59,61,63,65,68,71,74,76,78,80,82,84,86,87,88,89,90,91,92,93,94,95,96,97,98,99,100,101,102,103,104,105,106,107,108,109,110,111,112,113,114,115,116,117,118,119,120,121,122,123,124,125,126,127,128,129,130,131,132,133,134,135,136,137,138,139,140,141,142,143,144,145,146,147,148,149,150,151,152,153,154,155,156,157,158,159,160,161,162,163,164,165,166,167,168,169,170,171,172,173,174,175,176,177,178,179,180,181,182,183,184,185,186,187,188,189,190,191,192,193,194,195,196,197,198,199,200,201,202,203,204,205,206,207,208,209,210,211,212,213,214,215,216,217,218,219,220,221,222,223,224,225,226,227,228,229,230,231,232,233,234,235,236,237,238,239,240,241,242,243,244,245,246,247,248,249,250,251,252,253,254,255,256,257,258,259,260,261,262,263,264,265,266,267,268,269,270,271,272,273,274,275,276,277,278,279,280,281,282,283,284,285,286,287,288,289,290,291,292,293,294,295,296,297,298,299,300,301,302,303,304,305,306,307,308,309,310,311,312,313,314,315,316,317,318,319,320,321,322,323,324,325,326,327,328,329,330,331,332,333,334,335,336,337,338,339,340,341,342,343,344,345,346,347,348,349,350,351,352,353,354,355,356,357,358,359,360,361,362,363,364,365,366,367,368,369,370,371,372,373,374,375,376,377,378,379,380,381,382,383,384,385,386,387,388,389,390,391,392,393,394,395,396,397,398,399,400,401,402,403,404,405,406,407,408,409,410,411,412,413,414,415,416,417,418,419,420,421,422,423,424,425,426,427,428,429,430,431,432,433,434,435,436,437,438,439,440,441,442,443,444,445,446,447,448,449,450,451,452,453,454,455,456,457,458,459,460,461,462,463,464,465,466,467,468,469,470,471,472,473,474,475,476,477,478,479,480,481) have mixed types. Specify dtype option on import or set low_memory=False.\n",
      "  df_normalizada_r = pd.read_csv(\"Archivos CSV\\Ensayo\\Australian_user_reviews_normalizada.csv\")\n"
     ]
    }
   ],
   "source": [
    "# se realiza limpieza manual de los items_id que quedaron corridos o vacios.\n",
    "# se usa este codigo para eliminar todas la columnas que no pertenezcan al archivo.\n",
    "\n",
    "import pandas as pd\n",
    "\n",
    "# Lee el archivo CSV en un DataFrame\n",
    "df_normalizada_r = pd.read_csv('CSV/Australian_user_reviews_normalizada.csv')\n",
    "\n",
    "# Lista de columnas que deseas conservar\n",
    "columnas_deseadas = ['funny', 'posted', 'last_edited', 'item_id', 'helpful', 'recommend', 'review', 'user_id', 'user_url']\n",
    "\n",
    "# Eliminar las columnas no deseadas\n",
    "df_normalizada_r = df_normalizada_r[columnas_deseadas]\n",
    "\n",
    "# Sobrescribe el archivo original con las columnas seleccionadas\n",
    "df_normalizada_r.to_csv('CSV/Australian_user_reviews_normalizada.csv', index=False)"
   ]
  },
  {
   "cell_type": "code",
   "execution_count": 3,
   "metadata": {},
   "outputs": [
    {
     "data": {
      "text/html": [
       "<div>\n",
       "<style scoped>\n",
       "    .dataframe tbody tr th:only-of-type {\n",
       "        vertical-align: middle;\n",
       "    }\n",
       "\n",
       "    .dataframe tbody tr th {\n",
       "        vertical-align: top;\n",
       "    }\n",
       "\n",
       "    .dataframe thead th {\n",
       "        text-align: right;\n",
       "    }\n",
       "</style>\n",
       "<table border=\"1\" class=\"dataframe\">\n",
       "  <thead>\n",
       "    <tr style=\"text-align: right;\">\n",
       "      <th></th>\n",
       "      <th>funny</th>\n",
       "      <th>posted</th>\n",
       "      <th>last_edited</th>\n",
       "      <th>item_id</th>\n",
       "      <th>helpful</th>\n",
       "      <th>recommend</th>\n",
       "      <th>review</th>\n",
       "      <th>user_id</th>\n",
       "      <th>user_url</th>\n",
       "    </tr>\n",
       "  </thead>\n",
       "  <tbody>\n",
       "    <tr>\n",
       "      <th>0</th>\n",
       "      <td>NaN</td>\n",
       "      <td>Posted November 5, 2011.</td>\n",
       "      <td>NaN</td>\n",
       "      <td>1250</td>\n",
       "      <td>No ratings yet</td>\n",
       "      <td>True</td>\n",
       "      <td>Simple yet with great replayability. In my opi...</td>\n",
       "      <td>76561197970982479</td>\n",
       "      <td>http://steamcommunity.com/profiles/76561197970...</td>\n",
       "    </tr>\n",
       "  </tbody>\n",
       "</table>\n",
       "</div>"
      ],
      "text/plain": [
       "  funny                    posted last_edited  item_id         helpful  \\\n",
       "0   NaN  Posted November 5, 2011.         NaN     1250  No ratings yet   \n",
       "\n",
       "   recommend                                             review  \\\n",
       "0       True  Simple yet with great replayability. In my opi...   \n",
       "\n",
       "             user_id                                           user_url  \n",
       "0  76561197970982479  http://steamcommunity.com/profiles/76561197970...  "
      ]
     },
     "execution_count": 3,
     "metadata": {},
     "output_type": "execute_result"
    }
   ],
   "source": [
    "\n",
    "df_normalizada_r = pd.read_csv('CSV/Australian_user_reviews_normalizada.csv')\n",
    "df_normalizada_r.head(1)"
   ]
  },
  {
   "cell_type": "code",
   "execution_count": null,
   "metadata": {},
   "outputs": [],
   "source": [
    "# Despues de analizar el funcionamiento de las reviews en steam, nos dimos cuenta que:\n",
    "# un juegador no puede tener mas de una review de un mismo juego, solo se puede editar.\n",
    "# un jugador esta obligado a indicar si recomienda o no el juego.\n",
    "# Un jugador puede desactivar la casilla de comentarios de su review.\n",
    "# se procede a eliminar funny, posted, last_edited, helpful.\t"
   ]
  }
 ],
 "metadata": {
  "kernelspec": {
   "display_name": "Python 3",
   "language": "python",
   "name": "python3"
  },
  "language_info": {
   "codemirror_mode": {
    "name": "ipython",
    "version": 3
   },
   "file_extension": ".py",
   "mimetype": "text/x-python",
   "name": "python",
   "nbconvert_exporter": "python",
   "pygments_lexer": "ipython3",
   "version": "3.9.13"
  }
 },
 "nbformat": 4,
 "nbformat_minor": 2
}
