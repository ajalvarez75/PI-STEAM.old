{
 "cells": [
  {
   "cell_type": "markdown",
   "metadata": {},
   "source": [
    "Se recolecta las funciones necesarias para el proyecto.\n",
    "\n",
    "def PlayTimeGenre( genero : str ): Debe devolver año con mas horas jugadas para dicho género.\n",
    "Ejemplo de retorno: {\"Año de lanzamiento con más horas jugadas para Género X\" : 2013}\n",
    "\n",
    "def UserForGenre( genero : str ): Debe devolver el usuario que acumula más horas jugadas para el género dado y una lista de la acumulación de horas jugadas por año.\n",
    "Ejemplo de retorno: {\"Usuario con más horas jugadas para Género X\" : us213ndjss09sdf, \"Horas jugadas\":[{Año: 2013, Horas: 203}, {Año: 2012, Horas: 100}, {Año: 2011, Horas: 23}]}\n",
    "\n",
    "def UsersRecommend( año : int ): Devuelve el top 3 de juegos MÁS recomendados por usuarios para el año dado. (reviews_recommend = True y comentarios positivos/neutrales)\n",
    "Ejemplo de retorno: [{\"Puesto 1\" : X}, {\"Puesto 2\" : Y},{\"Puesto 3\" : Z}]\n",
    "\n",
    "def UsersNotRecommend( año : int ): Devuelve el top 3 de juegos MENOS recomendados por usuarios para el año dado. (reviews.recommend = False y comentarios negativos)\n",
    "Ejemplo de retorno: [{\"Puesto 1\" : X}, {\"Puesto 2\" : Y},{\"Puesto 3\" : Z}]\n",
    "\n",
    "def sentiment_analysis( año : int ): Según el año de lanzamiento, se devuelve una lista con la cantidad de registros de reseñas de usuarios que se encuentren categorizados con un análisis de sentimiento.\n",
    "Ejemplo de retorno: {Negative = 182, Neutral = 120, Positive = 278}"
   ]
  },
  {
   "cell_type": "code",
   "execution_count": 31,
   "metadata": {},
   "outputs": [],
   "source": [
    "# Archivo primera y segunda funcion.\n",
    "\"\"\"Para esta funcion necesitamos:\n",
    "item_id: de los archivos Australian_users_items_normalizada y output_steam_games_limpio\n",
    "genres: del archivo output_steam_games_limpio\n",
    "playtime_forever: del archivo Australian_users_items_normalizada\n",
    "user_id: del archivo items\"\"\"\n",
    "\n",
    "import pandas as pd\n",
    "\n",
    "# Cargar los archivos CSV en DataFrames\n",
    "df_items = pd.read_csv('CSV/Australian_users_items_normalizada.csv')  \n",
    "df_games = pd.read_csv('CSV/output_steam_games_limpio.csv')  \n",
    "\n",
    "# Seleccionar las columnas que deseas combinar\n",
    "columns_items = df_items[['item_id', 'playtime_forever','user_id']]\n",
    "columns_games = df_games[['item_id', 'genres','release_year']]\n",
    "\n",
    "# Combinar las columnas en un nuevo DataFrame\n",
    "df_function_1_2 = pd.merge(columns_items, columns_games, on='item_id', how='inner')\n",
    "\n",
    "# Guardar el nuevo DataFrame en un archivo CSV\n",
    "df_function_1_2.to_csv('Datasets/function_1_2.csv', index=False)"
   ]
  },
  {
   "cell_type": "code",
   "execution_count": 50,
   "metadata": {},
   "outputs": [
    {
     "data": {
      "text/html": [
       "<div>\n",
       "<style scoped>\n",
       "    .dataframe tbody tr th:only-of-type {\n",
       "        vertical-align: middle;\n",
       "    }\n",
       "\n",
       "    .dataframe tbody tr th {\n",
       "        vertical-align: top;\n",
       "    }\n",
       "\n",
       "    .dataframe thead th {\n",
       "        text-align: right;\n",
       "    }\n",
       "</style>\n",
       "<table border=\"1\" class=\"dataframe\">\n",
       "  <thead>\n",
       "    <tr style=\"text-align: right;\">\n",
       "      <th></th>\n",
       "      <th>item_id</th>\n",
       "      <th>playtime_forever</th>\n",
       "      <th>user_id</th>\n",
       "      <th>genres</th>\n",
       "      <th>release_year</th>\n",
       "    </tr>\n",
       "  </thead>\n",
       "  <tbody>\n",
       "    <tr>\n",
       "      <th>0</th>\n",
       "      <td>10</td>\n",
       "      <td>6</td>\n",
       "      <td>76561197970982479</td>\n",
       "      <td>action</td>\n",
       "      <td>2000</td>\n",
       "    </tr>\n",
       "    <tr>\n",
       "      <th>1</th>\n",
       "      <td>10</td>\n",
       "      <td>93</td>\n",
       "      <td>doctr</td>\n",
       "      <td>action</td>\n",
       "      <td>2000</td>\n",
       "    </tr>\n",
       "    <tr>\n",
       "      <th>2</th>\n",
       "      <td>10</td>\n",
       "      <td>108</td>\n",
       "      <td>corrupted_soul</td>\n",
       "      <td>action</td>\n",
       "      <td>2000</td>\n",
       "    </tr>\n",
       "    <tr>\n",
       "      <th>3</th>\n",
       "      <td>10</td>\n",
       "      <td>328</td>\n",
       "      <td>WeiEDKrSat</td>\n",
       "      <td>action</td>\n",
       "      <td>2000</td>\n",
       "    </tr>\n",
       "    <tr>\n",
       "      <th>4</th>\n",
       "      <td>10</td>\n",
       "      <td>6275</td>\n",
       "      <td>death-hunter</td>\n",
       "      <td>action</td>\n",
       "      <td>2000</td>\n",
       "    </tr>\n",
       "  </tbody>\n",
       "</table>\n",
       "</div>"
      ],
      "text/plain": [
       "   item_id  playtime_forever            user_id  genres  release_year\n",
       "0       10                 6  76561197970982479  action          2000\n",
       "1       10                93              doctr  action          2000\n",
       "2       10               108     corrupted_soul  action          2000\n",
       "3       10               328         WeiEDKrSat  action          2000\n",
       "4       10              6275       death-hunter  action          2000"
      ]
     },
     "execution_count": 50,
     "metadata": {},
     "output_type": "execute_result"
    }
   ],
   "source": [
    "# Comprobamos el archivo creado.\n",
    "import pandas as pd\n",
    "df_first = pd.read_csv('Datasets/function_1_2.csv')\n",
    "df_first.head()"
   ]
  },
  {
   "cell_type": "code",
   "execution_count": 98,
   "metadata": {},
   "outputs": [
    {
     "name": "stdout",
     "output_type": "stream",
     "text": [
      "{'Año de lanzamiento con más horas jugadas para Género rpg': 2011}\n"
     ]
    }
   ],
   "source": [
    "# primera funcion.\n",
    "\n",
    "import pandas as pd\n",
    "\n",
    "df_function_1 = pd.read_csv('Datasets/function_1_2.csv')\n",
    "\n",
    "def PlayTimeGenre(genre:str):\n",
    "    genre = genre.lower()\n",
    "\n",
    "    df_function_1['playtime_forever'] = df_function_1['playtime_forever'] / 60\n",
    "\n",
    "    df_filter = df_function_1[df_function_1['genres'] == genre]\n",
    "\n",
    "    grouped = df_filter.groupby(['release_year'])['playtime_forever'].sum().reset_index()\n",
    "\n",
    "    max_played_year = grouped.loc[grouped['playtime_forever'].idxmax()]['release_year']\n",
    "\n",
    "    result = {\"Año de lanzamiento con más horas jugadas para Género \" + genre: int(max_played_year)}\n",
    "    return result\n",
    "print(PlayTimeGenre('rpg'))"
   ]
  },
  {
   "cell_type": "code",
   "execution_count": 100,
   "metadata": {},
   "outputs": [
    {
     "name": "stdout",
     "output_type": "stream",
     "text": [
      "{'Usuario con más horas jugadas para Género action': 'Cow666', 'Horas jugadas': [{'Año': 1994, 'Horas': 92}, {'Año': 1995, 'Horas': 0}, {'Año': 1997, 'Horas': 94}, {'Año': 2002, 'Horas': 1}, {'Año': 2003, 'Horas': 584}, {'Año': 2005, 'Horas': 3}, {'Año': 2008, 'Horas': 792}, {'Año': 2009, 'Horas': 848}, {'Año': 2010, 'Horas': 3982}, {'Año': 2011, 'Horas': 2953}, {'Año': 2012, 'Horas': 4368}, {'Año': 2013, 'Horas': 1545}, {'Año': 2014, 'Horas': 769}, {'Año': 2015, 'Horas': 930}, {'Año': 2016, 'Horas': 174}, {'Año': 2017, 'Horas': 38}]}\n"
     ]
    }
   ],
   "source": [
    "# segunda funcion.\n",
    "\n",
    "import pandas as pd\n",
    "\n",
    "df_function_2 = pd.read_csv('Datasets/function_1_2.csv')\n",
    "\n",
    "def UserForGenre(genre:str):\n",
    "    df_filter = df_function_2[df_function_2['genres'].str.lower() == genre.lower()]\n",
    "\n",
    "    if df_filter.empty:\n",
    "        return {\"Mensaje\": f\"No se encontraron datos para el género {genre}\"}\n",
    "\n",
    "    # Agrupar por usuario y año\n",
    "    grouped = df_filter.groupby(['user_id', 'release_year'])['playtime_forever'].sum().reset_index()\n",
    "    grouped['playtime_forever'] = grouped['playtime_forever'] / 60  # Convertir minutos a horas\n",
    "\n",
    "    # El usuario + horas jugadas por género\n",
    "    max_user = grouped.groupby('user_id')['playtime_forever'].sum().idxmax()\n",
    "    max_user_hours = grouped[grouped['user_id'] == max_user]\n",
    "\n",
    "    # Obtener la lista de acumulación de horas jugadas por año\n",
    "    hours_per_year = max_user_hours[['release_year', 'playtime_forever']]\n",
    "    hours_list = [{\"Año\": int(year), \"Horas\": int(hours)} for year, hours in zip(hours_per_year['release_year'], hours_per_year['playtime_forever'])]\n",
    "\n",
    "    result = {\"Usuario con más horas jugadas para Género \" + genre: max_user, \"Horas jugadas\": hours_list}\n",
    "    return result\n",
    "print(UserForGenre('action'))"
   ]
  },
  {
   "cell_type": "code",
   "execution_count": 70,
   "metadata": {},
   "outputs": [],
   "source": [
    "# Archivo para tercera, cuarta y quinta funcion.\n",
    "\"\"\"Para esta funcion necesitamos:\n",
    "item_id y sentiment_analysis: del archivo Australian_user_reviews_normalizada_SA\n",
    "item_id title y release_year: del archivo output_steam_games_limpio\"\"\"\n",
    "\n",
    "import pandas as pd\n",
    "\n",
    "df_reviews = pd.read_csv('CSV/Australian_user_reviews_normalizada_SA.csv')\n",
    "df_games = pd.read_csv('CSV/output_steam_games_limpio.csv')\n",
    "\n",
    "columns_reviews = df_reviews[['item_id', 'user_id', 'sentiment_analysis', 'recommend']]\n",
    "columns_games = df_games[['item_id', 'title', 'release_year']]\n",
    "\n",
    "df_function_3_4_5 = pd.merge(columns_reviews, columns_games, on='item_id', how='inner')\n",
    "\n",
    "# configuro todos los valores a 1 que seria lo negativo.\n",
    "df_function_3_4_5['reviews_recommend'] = 1\n",
    "\n",
    "# cuando cumpla condicion true + 1 o 2, se guarde un 2 que seria lo positivo.\n",
    "condition = (df_function_3_4_5['recommend'] == True) & (df_function_3_4_5['sentiment_analysis'].isin([1, 2]))\n",
    "df_function_3_4_5.loc[condition, 'reviews_recommend'] = 2\n",
    "\n",
    "# Guardar el nuevo DataFrame en un archivo CSV\n",
    "df_function_3_4_5.to_csv('Datasets/function_3_4_5.csv', index=False)"
   ]
  },
  {
   "cell_type": "code",
   "execution_count": 91,
   "metadata": {},
   "outputs": [
    {
     "data": {
      "text/html": [
       "<div>\n",
       "<style scoped>\n",
       "    .dataframe tbody tr th:only-of-type {\n",
       "        vertical-align: middle;\n",
       "    }\n",
       "\n",
       "    .dataframe tbody tr th {\n",
       "        vertical-align: top;\n",
       "    }\n",
       "\n",
       "    .dataframe thead th {\n",
       "        text-align: right;\n",
       "    }\n",
       "</style>\n",
       "<table border=\"1\" class=\"dataframe\">\n",
       "  <thead>\n",
       "    <tr style=\"text-align: right;\">\n",
       "      <th></th>\n",
       "      <th>item_id</th>\n",
       "      <th>user_id</th>\n",
       "      <th>sentiment_analysis</th>\n",
       "      <th>recommend</th>\n",
       "      <th>title</th>\n",
       "      <th>release_year</th>\n",
       "      <th>reviews_recommend</th>\n",
       "    </tr>\n",
       "  </thead>\n",
       "  <tbody>\n",
       "    <tr>\n",
       "      <th>0</th>\n",
       "      <td>1250</td>\n",
       "      <td>76561197970982479</td>\n",
       "      <td>1</td>\n",
       "      <td>True</td>\n",
       "      <td>Killing Floor</td>\n",
       "      <td>2009</td>\n",
       "      <td>2</td>\n",
       "    </tr>\n",
       "    <tr>\n",
       "      <th>1</th>\n",
       "      <td>1250</td>\n",
       "      <td>death-hunter</td>\n",
       "      <td>1</td>\n",
       "      <td>True</td>\n",
       "      <td>Killing Floor</td>\n",
       "      <td>2009</td>\n",
       "      <td>2</td>\n",
       "    </tr>\n",
       "    <tr>\n",
       "      <th>2</th>\n",
       "      <td>1250</td>\n",
       "      <td>DJKamBer</td>\n",
       "      <td>1</td>\n",
       "      <td>True</td>\n",
       "      <td>Killing Floor</td>\n",
       "      <td>2009</td>\n",
       "      <td>2</td>\n",
       "    </tr>\n",
       "    <tr>\n",
       "      <th>3</th>\n",
       "      <td>1250</td>\n",
       "      <td>diego9031</td>\n",
       "      <td>1</td>\n",
       "      <td>True</td>\n",
       "      <td>Killing Floor</td>\n",
       "      <td>2009</td>\n",
       "      <td>2</td>\n",
       "    </tr>\n",
       "    <tr>\n",
       "      <th>4</th>\n",
       "      <td>1250</td>\n",
       "      <td>76561198081962345</td>\n",
       "      <td>1</td>\n",
       "      <td>True</td>\n",
       "      <td>Killing Floor</td>\n",
       "      <td>2009</td>\n",
       "      <td>2</td>\n",
       "    </tr>\n",
       "  </tbody>\n",
       "</table>\n",
       "</div>"
      ],
      "text/plain": [
       "   item_id            user_id  sentiment_analysis  recommend          title  \\\n",
       "0     1250  76561197970982479                   1       True  Killing Floor   \n",
       "1     1250       death-hunter                   1       True  Killing Floor   \n",
       "2     1250           DJKamBer                   1       True  Killing Floor   \n",
       "3     1250          diego9031                   1       True  Killing Floor   \n",
       "4     1250  76561198081962345                   1       True  Killing Floor   \n",
       "\n",
       "   release_year  reviews_recommend  \n",
       "0          2009                  2  \n",
       "1          2009                  2  \n",
       "2          2009                  2  \n",
       "3          2009                  2  \n",
       "4          2009                  2  "
      ]
     },
     "execution_count": 91,
     "metadata": {},
     "output_type": "execute_result"
    }
   ],
   "source": [
    "import pandas as pd\n",
    "df_function_3_4_5 = pd.read_csv('Datasets/function_3_4_5.csv')\n",
    "df_function_3_4_5.head()"
   ]
  },
  {
   "cell_type": "code",
   "execution_count": 97,
   "metadata": {},
   "outputs": [
    {
     "name": "stdout",
     "output_type": "stream",
     "text": [
      "[{'Puesto 1': 'Counter-Strike: Global Offensive'}, {'Puesto 2': 'Borderlands 2'}, {'Puesto 3': 'Realm of the Mad God'}]\n"
     ]
    }
   ],
   "source": [
    "# Tercera funcion.\n",
    "import pandas as pd\n",
    "\n",
    "df_function_3 = pd.read_csv('Datasets/function_3_4_5.csv')\n",
    "\n",
    "def UsersRecommend(year:int):\n",
    "    df_filter = df_function_3[df_function_3['release_year'] == year]\n",
    "\n",
    "    if df_filter.empty:\n",
    "        return {\"Mensaje\": f\"No se encontraron juegos recomendados para el año {year}\"}\n",
    "\n",
    "    # Filtrar \"reviews_recommend\" = 2 y contar por juego.\n",
    "    recommended_games = df_filter[df_filter['reviews_recommend'] == 2].groupby('title').size().reset_index()\n",
    "    \n",
    "    # Ordenar los juegos.\n",
    "    top_games = recommended_games.rename(columns={0: 'count'}).sort_values(by='count', ascending=False).head(3)\n",
    "\n",
    "    # lista de diccionarios del top 3\n",
    "    top_3 = [{\"Puesto \" + str(i + 1): game} for i, game in enumerate(top_games['title'])]\n",
    "    return top_3\n",
    "print(UsersRecommend(2012))"
   ]
  },
  {
   "cell_type": "code",
   "execution_count": 96,
   "metadata": {},
   "outputs": [
    {
     "name": "stdout",
     "output_type": "stream",
     "text": [
      "[{'Puesto 1': 'Counter-Strike: Global Offensive'}, {'Puesto 2': 'Realm of the Mad God'}, {'Puesto 3': 'PlanetSide 2'}]\n"
     ]
    }
   ],
   "source": [
    "# Cuarta funcion.\n",
    "import pandas as pd\n",
    "\n",
    "df_function_4 = pd.read_csv('Datasets/function_3_4_5.csv')\n",
    "\n",
    "def UsersNotRecommend(year:int):\n",
    "    df_filter = df_function_4[df_function_4['release_year'] == year]\n",
    "\n",
    "    if df_filter.empty:\n",
    "        return {\"Mensaje\": f\"No se encontraron juegos recomendados para el año {year}\"}\n",
    "\n",
    "    # Filtrar las filas donde \"reviews_recommend\" es igual a 1 y contar por juego\n",
    "    not_recommended_games = df_filter[df_filter['reviews_recommend'] == 1].groupby('title').size().reset_index()\n",
    "\n",
    "    # Ordenar los juegos por la cantidad de recomendaciones en orden descendente\n",
    "    top_games = not_recommended_games.rename(columns={0: 'count'}).sort_values(by='count', ascending=False).head(3)\n",
    "\n",
    "    # Crear una lista de diccionarios que representen el top 3\n",
    "    top_3 = [{\"Puesto \" + str(i + 1): game} for i, game in enumerate(top_games['title'])]\n",
    "    return top_3\n",
    "print(UsersNotRecommend(2012))"
   ]
  },
  {
   "cell_type": "code",
   "execution_count": 86,
   "metadata": {},
   "outputs": [
    {
     "name": "stdout",
     "output_type": "stream",
     "text": [
      "{'Neutral': 11966, 'Positive': 3081, 'Negative': 1221}\n"
     ]
    }
   ],
   "source": [
    "# Quinta funcion.\n",
    "\n",
    "import pandas as pd\n",
    "\n",
    "df_function_5 = pd.read_csv('Datasets/function_3_4_5.csv')\n",
    "\n",
    "def sentiment_analysis(year:int):\n",
    "    df_filter = df_function_5[df_function_5['release_year'] == year]\n",
    "\n",
    "    if df_filter.empty:\n",
    "        return {\"Mensaje\": f\"No se encontraron registros para el año {year}\"}\n",
    "\n",
    "    # Remapear los valores de análisis de sentimiento a etiquetas.\n",
    "    df_filter.loc[:, 'sentiment_analysis'] = df_filter['sentiment_analysis'].map({0: \"Negative\", 1: \"Neutral\", 2: \"Positive\"})\n",
    "\n",
    "    # Agrupar y cuenta los grupos.\n",
    "    analysis_count = df_filter['sentiment_analysis'].value_counts().to_dict()\n",
    "\n",
    "    # Diccionario con las categorías y recuento.\n",
    "    result = {key: value for key, value in analysis_count.items()}\n",
    "    return result\n",
    "print(sentiment_analysis(2012))"
   ]
  }
 ],
 "metadata": {
  "kernelspec": {
   "display_name": "Python 3",
   "language": "python",
   "name": "python3"
  },
  "language_info": {
   "codemirror_mode": {
    "name": "ipython",
    "version": 3
   },
   "file_extension": ".py",
   "mimetype": "text/x-python",
   "name": "python",
   "nbconvert_exporter": "python",
   "pygments_lexer": "ipython3",
   "version": "3.9.13"
  }
 },
 "nbformat": 4,
 "nbformat_minor": 2
}
